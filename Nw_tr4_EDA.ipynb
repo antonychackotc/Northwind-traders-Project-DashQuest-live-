{
  "nbformat": 4,
  "nbformat_minor": 0,
  "metadata": {
    "colab": {
      "provenance": [],
      "authorship_tag": "ABX9TyPqmiTqcd0seTOMd9sxsj0w",
      "include_colab_link": true
    },
    "kernelspec": {
      "name": "python3",
      "display_name": "Python 3"
    },
    "language_info": {
      "name": "python"
    }
  },
  "cells": [
    {
      "cell_type": "markdown",
      "metadata": {
        "id": "view-in-github",
        "colab_type": "text"
      },
      "source": [
        "<a href=\"https://colab.research.google.com/github/antonychackotc/Northwind-traders-Project-DashQuest-live-/blob/main/Nw_tr4_EDA.ipynb\" target=\"_parent\"><img src=\"https://colab.research.google.com/assets/colab-badge.svg\" alt=\"Open In Colab\"/></a>"
      ]
    },
    {
      "cell_type": "code",
      "source": [
        "import pandas as pd"
      ],
      "metadata": {
        "id": "GAw1f1DQlcGX"
      },
      "execution_count": 2,
      "outputs": []
    },
    {
      "cell_type": "code",
      "source": [
        "df=pd.read_csv('/content/cleaned-nw-traders.csv')\n",
        "df.head()"
      ],
      "metadata": {
        "colab": {
          "base_uri": "https://localhost:8080/",
          "height": 533
        },
        "id": "V_DAh8-9lhnm",
        "outputId": "2ec506cd-b8cc-4ad9-e99d-f55fdfe9b8a9"
      },
      "execution_count": 10,
      "outputs": [
        {
          "output_type": "execute_result",
          "data": {
            "text/plain": [
              "   Unnamed: 0.1  Unnamed: 0  shipperID  employeeID   employeeName  \\\n",
              "0             0           0          1           1  Nancy Davolio   \n",
              "1             1           1          1           1  Nancy Davolio   \n",
              "2             2           2          1           1  Nancy Davolio   \n",
              "3             3           3          1           1  Nancy Davolio   \n",
              "4             4           4          1           1  Nancy Davolio   \n",
              "\n",
              "                  title  reportsTo  categoryID categoryName  \\\n",
              "0  Sales Representative        8.0           1    Beverages   \n",
              "1  Sales Representative        8.0           1    Beverages   \n",
              "2  Sales Representative        8.0           1    Beverages   \n",
              "3  Sales Representative        8.0           1    Beverages   \n",
              "4  Sales Representative        8.0           1    Beverages   \n",
              "\n",
              "                                   description  ...   orderDate requiredDate  \\\n",
              "0  Soft drinks, coffees, teas, beers, and ales  ...  2013-07-17   2013-08-14   \n",
              "1  Soft drinks, coffees, teas, beers, and ales  ...  2015-04-01   2015-04-29   \n",
              "2  Soft drinks, coffees, teas, beers, and ales  ...  2015-01-05   2015-02-02   \n",
              "3  Soft drinks, coffees, teas, beers, and ales  ...  2014-03-10   2014-04-07   \n",
              "4  Soft drinks, coffees, teas, beers, and ales  ...  2015-04-16   2015-05-14   \n",
              "\n",
              "  shippedDate  freight quantity discount unitPrice  country      city  \\\n",
              "0  2013-07-23   140.51       50     0.20      19.0      USA  New York   \n",
              "1  2015-04-07    38.51       50     0.20      19.0      USA  New York   \n",
              "2  2015-01-09    47.38       12     0.20      19.0      USA  New York   \n",
              "3  2014-03-14    60.18       40     0.15      19.0      USA  New York   \n",
              "4  2015-04-20    52.52       30     0.25       4.5      USA  New York   \n",
              "\n",
              "      companyName  \n",
              "0  Speedy Express  \n",
              "1  Speedy Express  \n",
              "2  Speedy Express  \n",
              "3  Speedy Express  \n",
              "4  Speedy Express  \n",
              "\n",
              "[5 rows x 28 columns]"
            ],
            "text/html": [
              "\n",
              "  <div id=\"df-089717cc-e240-4a99-99e2-fffc80749db5\" class=\"colab-df-container\">\n",
              "    <div>\n",
              "<style scoped>\n",
              "    .dataframe tbody tr th:only-of-type {\n",
              "        vertical-align: middle;\n",
              "    }\n",
              "\n",
              "    .dataframe tbody tr th {\n",
              "        vertical-align: top;\n",
              "    }\n",
              "\n",
              "    .dataframe thead th {\n",
              "        text-align: right;\n",
              "    }\n",
              "</style>\n",
              "<table border=\"1\" class=\"dataframe\">\n",
              "  <thead>\n",
              "    <tr style=\"text-align: right;\">\n",
              "      <th></th>\n",
              "      <th>Unnamed: 0.1</th>\n",
              "      <th>Unnamed: 0</th>\n",
              "      <th>shipperID</th>\n",
              "      <th>employeeID</th>\n",
              "      <th>employeeName</th>\n",
              "      <th>title</th>\n",
              "      <th>reportsTo</th>\n",
              "      <th>categoryID</th>\n",
              "      <th>categoryName</th>\n",
              "      <th>description</th>\n",
              "      <th>...</th>\n",
              "      <th>orderDate</th>\n",
              "      <th>requiredDate</th>\n",
              "      <th>shippedDate</th>\n",
              "      <th>freight</th>\n",
              "      <th>quantity</th>\n",
              "      <th>discount</th>\n",
              "      <th>unitPrice</th>\n",
              "      <th>country</th>\n",
              "      <th>city</th>\n",
              "      <th>companyName</th>\n",
              "    </tr>\n",
              "  </thead>\n",
              "  <tbody>\n",
              "    <tr>\n",
              "      <th>0</th>\n",
              "      <td>0</td>\n",
              "      <td>0</td>\n",
              "      <td>1</td>\n",
              "      <td>1</td>\n",
              "      <td>Nancy Davolio</td>\n",
              "      <td>Sales Representative</td>\n",
              "      <td>8.0</td>\n",
              "      <td>1</td>\n",
              "      <td>Beverages</td>\n",
              "      <td>Soft drinks, coffees, teas, beers, and ales</td>\n",
              "      <td>...</td>\n",
              "      <td>2013-07-17</td>\n",
              "      <td>2013-08-14</td>\n",
              "      <td>2013-07-23</td>\n",
              "      <td>140.51</td>\n",
              "      <td>50</td>\n",
              "      <td>0.20</td>\n",
              "      <td>19.0</td>\n",
              "      <td>USA</td>\n",
              "      <td>New York</td>\n",
              "      <td>Speedy Express</td>\n",
              "    </tr>\n",
              "    <tr>\n",
              "      <th>1</th>\n",
              "      <td>1</td>\n",
              "      <td>1</td>\n",
              "      <td>1</td>\n",
              "      <td>1</td>\n",
              "      <td>Nancy Davolio</td>\n",
              "      <td>Sales Representative</td>\n",
              "      <td>8.0</td>\n",
              "      <td>1</td>\n",
              "      <td>Beverages</td>\n",
              "      <td>Soft drinks, coffees, teas, beers, and ales</td>\n",
              "      <td>...</td>\n",
              "      <td>2015-04-01</td>\n",
              "      <td>2015-04-29</td>\n",
              "      <td>2015-04-07</td>\n",
              "      <td>38.51</td>\n",
              "      <td>50</td>\n",
              "      <td>0.20</td>\n",
              "      <td>19.0</td>\n",
              "      <td>USA</td>\n",
              "      <td>New York</td>\n",
              "      <td>Speedy Express</td>\n",
              "    </tr>\n",
              "    <tr>\n",
              "      <th>2</th>\n",
              "      <td>2</td>\n",
              "      <td>2</td>\n",
              "      <td>1</td>\n",
              "      <td>1</td>\n",
              "      <td>Nancy Davolio</td>\n",
              "      <td>Sales Representative</td>\n",
              "      <td>8.0</td>\n",
              "      <td>1</td>\n",
              "      <td>Beverages</td>\n",
              "      <td>Soft drinks, coffees, teas, beers, and ales</td>\n",
              "      <td>...</td>\n",
              "      <td>2015-01-05</td>\n",
              "      <td>2015-02-02</td>\n",
              "      <td>2015-01-09</td>\n",
              "      <td>47.38</td>\n",
              "      <td>12</td>\n",
              "      <td>0.20</td>\n",
              "      <td>19.0</td>\n",
              "      <td>USA</td>\n",
              "      <td>New York</td>\n",
              "      <td>Speedy Express</td>\n",
              "    </tr>\n",
              "    <tr>\n",
              "      <th>3</th>\n",
              "      <td>3</td>\n",
              "      <td>3</td>\n",
              "      <td>1</td>\n",
              "      <td>1</td>\n",
              "      <td>Nancy Davolio</td>\n",
              "      <td>Sales Representative</td>\n",
              "      <td>8.0</td>\n",
              "      <td>1</td>\n",
              "      <td>Beverages</td>\n",
              "      <td>Soft drinks, coffees, teas, beers, and ales</td>\n",
              "      <td>...</td>\n",
              "      <td>2014-03-10</td>\n",
              "      <td>2014-04-07</td>\n",
              "      <td>2014-03-14</td>\n",
              "      <td>60.18</td>\n",
              "      <td>40</td>\n",
              "      <td>0.15</td>\n",
              "      <td>19.0</td>\n",
              "      <td>USA</td>\n",
              "      <td>New York</td>\n",
              "      <td>Speedy Express</td>\n",
              "    </tr>\n",
              "    <tr>\n",
              "      <th>4</th>\n",
              "      <td>4</td>\n",
              "      <td>4</td>\n",
              "      <td>1</td>\n",
              "      <td>1</td>\n",
              "      <td>Nancy Davolio</td>\n",
              "      <td>Sales Representative</td>\n",
              "      <td>8.0</td>\n",
              "      <td>1</td>\n",
              "      <td>Beverages</td>\n",
              "      <td>Soft drinks, coffees, teas, beers, and ales</td>\n",
              "      <td>...</td>\n",
              "      <td>2015-04-16</td>\n",
              "      <td>2015-05-14</td>\n",
              "      <td>2015-04-20</td>\n",
              "      <td>52.52</td>\n",
              "      <td>30</td>\n",
              "      <td>0.25</td>\n",
              "      <td>4.5</td>\n",
              "      <td>USA</td>\n",
              "      <td>New York</td>\n",
              "      <td>Speedy Express</td>\n",
              "    </tr>\n",
              "  </tbody>\n",
              "</table>\n",
              "<p>5 rows × 28 columns</p>\n",
              "</div>\n",
              "    <div class=\"colab-df-buttons\">\n",
              "\n",
              "  <div class=\"colab-df-container\">\n",
              "    <button class=\"colab-df-convert\" onclick=\"convertToInteractive('df-089717cc-e240-4a99-99e2-fffc80749db5')\"\n",
              "            title=\"Convert this dataframe to an interactive table.\"\n",
              "            style=\"display:none;\">\n",
              "\n",
              "  <svg xmlns=\"http://www.w3.org/2000/svg\" height=\"24px\" viewBox=\"0 -960 960 960\">\n",
              "    <path d=\"M120-120v-720h720v720H120Zm60-500h600v-160H180v160Zm220 220h160v-160H400v160Zm0 220h160v-160H400v160ZM180-400h160v-160H180v160Zm440 0h160v-160H620v160ZM180-180h160v-160H180v160Zm440 0h160v-160H620v160Z\"/>\n",
              "  </svg>\n",
              "    </button>\n",
              "\n",
              "  <style>\n",
              "    .colab-df-container {\n",
              "      display:flex;\n",
              "      gap: 12px;\n",
              "    }\n",
              "\n",
              "    .colab-df-convert {\n",
              "      background-color: #E8F0FE;\n",
              "      border: none;\n",
              "      border-radius: 50%;\n",
              "      cursor: pointer;\n",
              "      display: none;\n",
              "      fill: #1967D2;\n",
              "      height: 32px;\n",
              "      padding: 0 0 0 0;\n",
              "      width: 32px;\n",
              "    }\n",
              "\n",
              "    .colab-df-convert:hover {\n",
              "      background-color: #E2EBFA;\n",
              "      box-shadow: 0px 1px 2px rgba(60, 64, 67, 0.3), 0px 1px 3px 1px rgba(60, 64, 67, 0.15);\n",
              "      fill: #174EA6;\n",
              "    }\n",
              "\n",
              "    .colab-df-buttons div {\n",
              "      margin-bottom: 4px;\n",
              "    }\n",
              "\n",
              "    [theme=dark] .colab-df-convert {\n",
              "      background-color: #3B4455;\n",
              "      fill: #D2E3FC;\n",
              "    }\n",
              "\n",
              "    [theme=dark] .colab-df-convert:hover {\n",
              "      background-color: #434B5C;\n",
              "      box-shadow: 0px 1px 3px 1px rgba(0, 0, 0, 0.15);\n",
              "      filter: drop-shadow(0px 1px 2px rgba(0, 0, 0, 0.3));\n",
              "      fill: #FFFFFF;\n",
              "    }\n",
              "  </style>\n",
              "\n",
              "    <script>\n",
              "      const buttonEl =\n",
              "        document.querySelector('#df-089717cc-e240-4a99-99e2-fffc80749db5 button.colab-df-convert');\n",
              "      buttonEl.style.display =\n",
              "        google.colab.kernel.accessAllowed ? 'block' : 'none';\n",
              "\n",
              "      async function convertToInteractive(key) {\n",
              "        const element = document.querySelector('#df-089717cc-e240-4a99-99e2-fffc80749db5');\n",
              "        const dataTable =\n",
              "          await google.colab.kernel.invokeFunction('convertToInteractive',\n",
              "                                                    [key], {});\n",
              "        if (!dataTable) return;\n",
              "\n",
              "        const docLinkHtml = 'Like what you see? Visit the ' +\n",
              "          '<a target=\"_blank\" href=https://colab.research.google.com/notebooks/data_table.ipynb>data table notebook</a>'\n",
              "          + ' to learn more about interactive tables.';\n",
              "        element.innerHTML = '';\n",
              "        dataTable['output_type'] = 'display_data';\n",
              "        await google.colab.output.renderOutput(dataTable, element);\n",
              "        const docLink = document.createElement('div');\n",
              "        docLink.innerHTML = docLinkHtml;\n",
              "        element.appendChild(docLink);\n",
              "      }\n",
              "    </script>\n",
              "  </div>\n",
              "\n",
              "\n",
              "<div id=\"df-6d01f044-d695-438e-beb2-ef8948ed4023\">\n",
              "  <button class=\"colab-df-quickchart\" onclick=\"quickchart('df-6d01f044-d695-438e-beb2-ef8948ed4023')\"\n",
              "            title=\"Suggest charts\"\n",
              "            style=\"display:none;\">\n",
              "\n",
              "<svg xmlns=\"http://www.w3.org/2000/svg\" height=\"24px\"viewBox=\"0 0 24 24\"\n",
              "     width=\"24px\">\n",
              "    <g>\n",
              "        <path d=\"M19 3H5c-1.1 0-2 .9-2 2v14c0 1.1.9 2 2 2h14c1.1 0 2-.9 2-2V5c0-1.1-.9-2-2-2zM9 17H7v-7h2v7zm4 0h-2V7h2v10zm4 0h-2v-4h2v4z\"/>\n",
              "    </g>\n",
              "</svg>\n",
              "  </button>\n",
              "\n",
              "<style>\n",
              "  .colab-df-quickchart {\n",
              "      --bg-color: #E8F0FE;\n",
              "      --fill-color: #1967D2;\n",
              "      --hover-bg-color: #E2EBFA;\n",
              "      --hover-fill-color: #174EA6;\n",
              "      --disabled-fill-color: #AAA;\n",
              "      --disabled-bg-color: #DDD;\n",
              "  }\n",
              "\n",
              "  [theme=dark] .colab-df-quickchart {\n",
              "      --bg-color: #3B4455;\n",
              "      --fill-color: #D2E3FC;\n",
              "      --hover-bg-color: #434B5C;\n",
              "      --hover-fill-color: #FFFFFF;\n",
              "      --disabled-bg-color: #3B4455;\n",
              "      --disabled-fill-color: #666;\n",
              "  }\n",
              "\n",
              "  .colab-df-quickchart {\n",
              "    background-color: var(--bg-color);\n",
              "    border: none;\n",
              "    border-radius: 50%;\n",
              "    cursor: pointer;\n",
              "    display: none;\n",
              "    fill: var(--fill-color);\n",
              "    height: 32px;\n",
              "    padding: 0;\n",
              "    width: 32px;\n",
              "  }\n",
              "\n",
              "  .colab-df-quickchart:hover {\n",
              "    background-color: var(--hover-bg-color);\n",
              "    box-shadow: 0 1px 2px rgba(60, 64, 67, 0.3), 0 1px 3px 1px rgba(60, 64, 67, 0.15);\n",
              "    fill: var(--button-hover-fill-color);\n",
              "  }\n",
              "\n",
              "  .colab-df-quickchart-complete:disabled,\n",
              "  .colab-df-quickchart-complete:disabled:hover {\n",
              "    background-color: var(--disabled-bg-color);\n",
              "    fill: var(--disabled-fill-color);\n",
              "    box-shadow: none;\n",
              "  }\n",
              "\n",
              "  .colab-df-spinner {\n",
              "    border: 2px solid var(--fill-color);\n",
              "    border-color: transparent;\n",
              "    border-bottom-color: var(--fill-color);\n",
              "    animation:\n",
              "      spin 1s steps(1) infinite;\n",
              "  }\n",
              "\n",
              "  @keyframes spin {\n",
              "    0% {\n",
              "      border-color: transparent;\n",
              "      border-bottom-color: var(--fill-color);\n",
              "      border-left-color: var(--fill-color);\n",
              "    }\n",
              "    20% {\n",
              "      border-color: transparent;\n",
              "      border-left-color: var(--fill-color);\n",
              "      border-top-color: var(--fill-color);\n",
              "    }\n",
              "    30% {\n",
              "      border-color: transparent;\n",
              "      border-left-color: var(--fill-color);\n",
              "      border-top-color: var(--fill-color);\n",
              "      border-right-color: var(--fill-color);\n",
              "    }\n",
              "    40% {\n",
              "      border-color: transparent;\n",
              "      border-right-color: var(--fill-color);\n",
              "      border-top-color: var(--fill-color);\n",
              "    }\n",
              "    60% {\n",
              "      border-color: transparent;\n",
              "      border-right-color: var(--fill-color);\n",
              "    }\n",
              "    80% {\n",
              "      border-color: transparent;\n",
              "      border-right-color: var(--fill-color);\n",
              "      border-bottom-color: var(--fill-color);\n",
              "    }\n",
              "    90% {\n",
              "      border-color: transparent;\n",
              "      border-bottom-color: var(--fill-color);\n",
              "    }\n",
              "  }\n",
              "</style>\n",
              "\n",
              "  <script>\n",
              "    async function quickchart(key) {\n",
              "      const quickchartButtonEl =\n",
              "        document.querySelector('#' + key + ' button');\n",
              "      quickchartButtonEl.disabled = true;  // To prevent multiple clicks.\n",
              "      quickchartButtonEl.classList.add('colab-df-spinner');\n",
              "      try {\n",
              "        const charts = await google.colab.kernel.invokeFunction(\n",
              "            'suggestCharts', [key], {});\n",
              "      } catch (error) {\n",
              "        console.error('Error during call to suggestCharts:', error);\n",
              "      }\n",
              "      quickchartButtonEl.classList.remove('colab-df-spinner');\n",
              "      quickchartButtonEl.classList.add('colab-df-quickchart-complete');\n",
              "    }\n",
              "    (() => {\n",
              "      let quickchartButtonEl =\n",
              "        document.querySelector('#df-6d01f044-d695-438e-beb2-ef8948ed4023 button');\n",
              "      quickchartButtonEl.style.display =\n",
              "        google.colab.kernel.accessAllowed ? 'block' : 'none';\n",
              "    })();\n",
              "  </script>\n",
              "</div>\n",
              "\n",
              "    </div>\n",
              "  </div>\n"
            ],
            "application/vnd.google.colaboratory.intrinsic+json": {
              "type": "dataframe",
              "variable_name": "df"
            }
          },
          "metadata": {},
          "execution_count": 10
        }
      ]
    },
    {
      "cell_type": "code",
      "source": [
        "df.drop(columns=['Unnamed: 0','Unnamed: 0.1'],axis=1,inplace=True)"
      ],
      "metadata": {
        "id": "K1iOVCQjlxpY"
      },
      "execution_count": 11,
      "outputs": []
    },
    {
      "cell_type": "markdown",
      "source": [
        "# **Exploratory Data Analysis (EDA)**"
      ],
      "metadata": {
        "id": "qgJbs3xKlH9i"
      }
    },
    {
      "cell_type": "code",
      "execution_count": 13,
      "metadata": {
        "id": "Jt_TFbnFYPbX",
        "colab": {
          "base_uri": "https://localhost:8080/"
        },
        "outputId": "da703e2b-5aca-4352-de41-17daa7ce4ecc"
      },
      "outputs": [
        {
          "output_type": "stream",
          "name": "stdout",
          "text": [
            "Categorical Columns: ['employeeName', 'title', 'categoryName', 'description', 'productName', 'quantityPerUnit', 'customerID', 'contactName', 'contactTitle', 'orderDate', 'requiredDate', 'shippedDate', 'country', 'city', 'companyName']\n",
            "Numerical Columns: ['shipperID', 'employeeID', 'reportsTo', 'categoryID', 'productID', 'discontinued', 'orderID', 'freight', 'quantity', 'discount', 'unitPrice']\n"
          ]
        }
      ],
      "source": [
        "# Categorical and numerical column detection\n",
        "categorical_columns = df.select_dtypes(include=['object', 'category']).columns.tolist()\n",
        "numerical_columns = df.select_dtypes(include=['number']).columns.tolist()\n",
        "\n",
        "print(\"Categorical Columns:\", categorical_columns)\n",
        "print(\"Numerical Columns:\", numerical_columns)\n"
      ]
    },
    {
      "cell_type": "markdown",
      "source": [
        "# **Check category column value check for Analysis**"
      ],
      "metadata": {
        "id": "FHuCxSBXmYk9"
      }
    },
    {
      "cell_type": "markdown",
      "source": [
        "# **1)**"
      ],
      "metadata": {
        "id": "q-1ykg_UnIk9"
      }
    },
    {
      "cell_type": "code",
      "source": [
        "df['employeeName'].value_counts()"
      ],
      "metadata": {
        "colab": {
          "base_uri": "https://localhost:8080/",
          "height": 397
        },
        "id": "al3fQ9TdlZkb",
        "outputId": "a4954383-5793-4118-d19b-238b49c4adc0"
      },
      "execution_count": 15,
      "outputs": [
        {
          "output_type": "execute_result",
          "data": {
            "text/plain": [
              "employeeName\n",
              "Margaret Peacock    420\n",
              "Nancy Davolio       345\n",
              "Janet Leverling     321\n",
              "Laura Callahan      260\n",
              "Andrew Fuller       241\n",
              "Robert King         176\n",
              "Michael Suyama      168\n",
              "Steven Buchanan     117\n",
              "Anne Dodsworth      107\n",
              "Name: count, dtype: int64"
            ],
            "text/html": [
              "<div>\n",
              "<style scoped>\n",
              "    .dataframe tbody tr th:only-of-type {\n",
              "        vertical-align: middle;\n",
              "    }\n",
              "\n",
              "    .dataframe tbody tr th {\n",
              "        vertical-align: top;\n",
              "    }\n",
              "\n",
              "    .dataframe thead th {\n",
              "        text-align: right;\n",
              "    }\n",
              "</style>\n",
              "<table border=\"1\" class=\"dataframe\">\n",
              "  <thead>\n",
              "    <tr style=\"text-align: right;\">\n",
              "      <th></th>\n",
              "      <th>count</th>\n",
              "    </tr>\n",
              "    <tr>\n",
              "      <th>employeeName</th>\n",
              "      <th></th>\n",
              "    </tr>\n",
              "  </thead>\n",
              "  <tbody>\n",
              "    <tr>\n",
              "      <th>Margaret Peacock</th>\n",
              "      <td>420</td>\n",
              "    </tr>\n",
              "    <tr>\n",
              "      <th>Nancy Davolio</th>\n",
              "      <td>345</td>\n",
              "    </tr>\n",
              "    <tr>\n",
              "      <th>Janet Leverling</th>\n",
              "      <td>321</td>\n",
              "    </tr>\n",
              "    <tr>\n",
              "      <th>Laura Callahan</th>\n",
              "      <td>260</td>\n",
              "    </tr>\n",
              "    <tr>\n",
              "      <th>Andrew Fuller</th>\n",
              "      <td>241</td>\n",
              "    </tr>\n",
              "    <tr>\n",
              "      <th>Robert King</th>\n",
              "      <td>176</td>\n",
              "    </tr>\n",
              "    <tr>\n",
              "      <th>Michael Suyama</th>\n",
              "      <td>168</td>\n",
              "    </tr>\n",
              "    <tr>\n",
              "      <th>Steven Buchanan</th>\n",
              "      <td>117</td>\n",
              "    </tr>\n",
              "    <tr>\n",
              "      <th>Anne Dodsworth</th>\n",
              "      <td>107</td>\n",
              "    </tr>\n",
              "  </tbody>\n",
              "</table>\n",
              "</div><br><label><b>dtype:</b> int64</label>"
            ]
          },
          "metadata": {},
          "execution_count": 15
        }
      ]
    },
    {
      "cell_type": "markdown",
      "source": [
        "# **this column is suite for EDA because this columns contains Cluster Bases**"
      ],
      "metadata": {
        "id": "817e_Pp6mun-"
      }
    },
    {
      "cell_type": "markdown",
      "source": [
        "# **2)**"
      ],
      "metadata": {
        "id": "_s7Rlt0onK9b"
      }
    },
    {
      "cell_type": "code",
      "source": [
        "df['title'].value_counts()"
      ],
      "metadata": {
        "colab": {
          "base_uri": "https://localhost:8080/",
          "height": 209
        },
        "id": "Hw8J2ICKmnpC",
        "outputId": "98a25b6b-1f3c-4327-af39-900fcb5faa16"
      },
      "execution_count": 17,
      "outputs": [
        {
          "output_type": "execute_result",
          "data": {
            "text/plain": [
              "title\n",
              "Sales Representative    1537\n",
              "Sales Manager            377\n",
              "Vice President Sales     241\n",
              "Name: count, dtype: int64"
            ],
            "text/html": [
              "<div>\n",
              "<style scoped>\n",
              "    .dataframe tbody tr th:only-of-type {\n",
              "        vertical-align: middle;\n",
              "    }\n",
              "\n",
              "    .dataframe tbody tr th {\n",
              "        vertical-align: top;\n",
              "    }\n",
              "\n",
              "    .dataframe thead th {\n",
              "        text-align: right;\n",
              "    }\n",
              "</style>\n",
              "<table border=\"1\" class=\"dataframe\">\n",
              "  <thead>\n",
              "    <tr style=\"text-align: right;\">\n",
              "      <th></th>\n",
              "      <th>count</th>\n",
              "    </tr>\n",
              "    <tr>\n",
              "      <th>title</th>\n",
              "      <th></th>\n",
              "    </tr>\n",
              "  </thead>\n",
              "  <tbody>\n",
              "    <tr>\n",
              "      <th>Sales Representative</th>\n",
              "      <td>1537</td>\n",
              "    </tr>\n",
              "    <tr>\n",
              "      <th>Sales Manager</th>\n",
              "      <td>377</td>\n",
              "    </tr>\n",
              "    <tr>\n",
              "      <th>Vice President Sales</th>\n",
              "      <td>241</td>\n",
              "    </tr>\n",
              "  </tbody>\n",
              "</table>\n",
              "</div><br><label><b>dtype:</b> int64</label>"
            ]
          },
          "metadata": {},
          "execution_count": 17
        }
      ]
    },
    {
      "cell_type": "markdown",
      "source": [
        "# **this column is suite for EDA because this columns contains Cluster Bases**"
      ],
      "metadata": {
        "id": "qsDVL0UBnFYt"
      }
    },
    {
      "cell_type": "markdown",
      "source": [
        "# **3)**"
      ],
      "metadata": {
        "id": "ZC2yoF5nnPal"
      }
    },
    {
      "cell_type": "code",
      "source": [
        "df['categoryName'].value_counts()"
      ],
      "metadata": {
        "colab": {
          "base_uri": "https://localhost:8080/",
          "height": 366
        },
        "id": "EcfI9yyUm-mx",
        "outputId": "456e54f7-ec81-4a8d-a6b0-a50690c2e7be"
      },
      "execution_count": 18,
      "outputs": [
        {
          "output_type": "execute_result",
          "data": {
            "text/plain": [
              "categoryName\n",
              "Beverages           404\n",
              "Dairy Products      366\n",
              "Confections         334\n",
              "Seafood             330\n",
              "Condiments          216\n",
              "Grains & Cereals    196\n",
              "Meat & Poultry      173\n",
              "Produce             136\n",
              "Name: count, dtype: int64"
            ],
            "text/html": [
              "<div>\n",
              "<style scoped>\n",
              "    .dataframe tbody tr th:only-of-type {\n",
              "        vertical-align: middle;\n",
              "    }\n",
              "\n",
              "    .dataframe tbody tr th {\n",
              "        vertical-align: top;\n",
              "    }\n",
              "\n",
              "    .dataframe thead th {\n",
              "        text-align: right;\n",
              "    }\n",
              "</style>\n",
              "<table border=\"1\" class=\"dataframe\">\n",
              "  <thead>\n",
              "    <tr style=\"text-align: right;\">\n",
              "      <th></th>\n",
              "      <th>count</th>\n",
              "    </tr>\n",
              "    <tr>\n",
              "      <th>categoryName</th>\n",
              "      <th></th>\n",
              "    </tr>\n",
              "  </thead>\n",
              "  <tbody>\n",
              "    <tr>\n",
              "      <th>Beverages</th>\n",
              "      <td>404</td>\n",
              "    </tr>\n",
              "    <tr>\n",
              "      <th>Dairy Products</th>\n",
              "      <td>366</td>\n",
              "    </tr>\n",
              "    <tr>\n",
              "      <th>Confections</th>\n",
              "      <td>334</td>\n",
              "    </tr>\n",
              "    <tr>\n",
              "      <th>Seafood</th>\n",
              "      <td>330</td>\n",
              "    </tr>\n",
              "    <tr>\n",
              "      <th>Condiments</th>\n",
              "      <td>216</td>\n",
              "    </tr>\n",
              "    <tr>\n",
              "      <th>Grains &amp; Cereals</th>\n",
              "      <td>196</td>\n",
              "    </tr>\n",
              "    <tr>\n",
              "      <th>Meat &amp; Poultry</th>\n",
              "      <td>173</td>\n",
              "    </tr>\n",
              "    <tr>\n",
              "      <th>Produce</th>\n",
              "      <td>136</td>\n",
              "    </tr>\n",
              "  </tbody>\n",
              "</table>\n",
              "</div><br><label><b>dtype:</b> int64</label>"
            ]
          },
          "metadata": {},
          "execution_count": 18
        }
      ]
    },
    {
      "cell_type": "markdown",
      "source": [
        "# **this column is suite for EDA because this columns contains Cluster Bases**"
      ],
      "metadata": {
        "id": "bRIOO6qenUW-"
      }
    },
    {
      "cell_type": "markdown",
      "source": [
        "# **4)**"
      ],
      "metadata": {
        "id": "hDfQgJYAnZVx"
      }
    },
    {
      "cell_type": "code",
      "source": [
        "df['description'].value_counts()"
      ],
      "metadata": {
        "colab": {
          "base_uri": "https://localhost:8080/",
          "height": 366
        },
        "id": "kMv6b41OnTO4",
        "outputId": "64c4ba30-c082-46d9-bfec-fcf8a0362765"
      },
      "execution_count": 19,
      "outputs": [
        {
          "output_type": "execute_result",
          "data": {
            "text/plain": [
              "description\n",
              "Soft drinks, coffees, teas, beers, and ales                   404\n",
              "Cheeses                                                       366\n",
              "Desserts, candies, and sweet breads                           334\n",
              "Seaweed and fish                                              330\n",
              "Sweet and savory sauces, relishes, spreads, and seasonings    216\n",
              "Breads, crackers, pasta, and cereal                           196\n",
              "Prepared meats                                                173\n",
              "Dried fruit and bean curd                                     136\n",
              "Name: count, dtype: int64"
            ],
            "text/html": [
              "<div>\n",
              "<style scoped>\n",
              "    .dataframe tbody tr th:only-of-type {\n",
              "        vertical-align: middle;\n",
              "    }\n",
              "\n",
              "    .dataframe tbody tr th {\n",
              "        vertical-align: top;\n",
              "    }\n",
              "\n",
              "    .dataframe thead th {\n",
              "        text-align: right;\n",
              "    }\n",
              "</style>\n",
              "<table border=\"1\" class=\"dataframe\">\n",
              "  <thead>\n",
              "    <tr style=\"text-align: right;\">\n",
              "      <th></th>\n",
              "      <th>count</th>\n",
              "    </tr>\n",
              "    <tr>\n",
              "      <th>description</th>\n",
              "      <th></th>\n",
              "    </tr>\n",
              "  </thead>\n",
              "  <tbody>\n",
              "    <tr>\n",
              "      <th>Soft drinks, coffees, teas, beers, and ales</th>\n",
              "      <td>404</td>\n",
              "    </tr>\n",
              "    <tr>\n",
              "      <th>Cheeses</th>\n",
              "      <td>366</td>\n",
              "    </tr>\n",
              "    <tr>\n",
              "      <th>Desserts, candies, and sweet breads</th>\n",
              "      <td>334</td>\n",
              "    </tr>\n",
              "    <tr>\n",
              "      <th>Seaweed and fish</th>\n",
              "      <td>330</td>\n",
              "    </tr>\n",
              "    <tr>\n",
              "      <th>Sweet and savory sauces, relishes, spreads, and seasonings</th>\n",
              "      <td>216</td>\n",
              "    </tr>\n",
              "    <tr>\n",
              "      <th>Breads, crackers, pasta, and cereal</th>\n",
              "      <td>196</td>\n",
              "    </tr>\n",
              "    <tr>\n",
              "      <th>Prepared meats</th>\n",
              "      <td>173</td>\n",
              "    </tr>\n",
              "    <tr>\n",
              "      <th>Dried fruit and bean curd</th>\n",
              "      <td>136</td>\n",
              "    </tr>\n",
              "  </tbody>\n",
              "</table>\n",
              "</div><br><label><b>dtype:</b> int64</label>"
            ]
          },
          "metadata": {},
          "execution_count": 19
        }
      ]
    },
    {
      "cell_type": "markdown",
      "source": [
        "# **This columns also Best for EDA - like Asociate Learning (clusters)**"
      ],
      "metadata": {
        "id": "DWml6Z3dni6Z"
      }
    },
    {
      "cell_type": "markdown",
      "source": [
        "# **5)**"
      ],
      "metadata": {
        "id": "F_ErXAf1pUGt"
      }
    },
    {
      "cell_type": "code",
      "source": [
        "df['country'].value_counts()"
      ],
      "metadata": {
        "colab": {
          "base_uri": "https://localhost:8080/",
          "height": 178
        },
        "id": "bSGKRirVpWJ1",
        "outputId": "b69e624f-ab3d-4e42-8c63-e4546a759edd"
      },
      "execution_count": 27,
      "outputs": [
        {
          "output_type": "execute_result",
          "data": {
            "text/plain": [
              "country\n",
              "USA    1587\n",
              "UK      568\n",
              "Name: count, dtype: int64"
            ],
            "text/html": [
              "<div>\n",
              "<style scoped>\n",
              "    .dataframe tbody tr th:only-of-type {\n",
              "        vertical-align: middle;\n",
              "    }\n",
              "\n",
              "    .dataframe tbody tr th {\n",
              "        vertical-align: top;\n",
              "    }\n",
              "\n",
              "    .dataframe thead th {\n",
              "        text-align: right;\n",
              "    }\n",
              "</style>\n",
              "<table border=\"1\" class=\"dataframe\">\n",
              "  <thead>\n",
              "    <tr style=\"text-align: right;\">\n",
              "      <th></th>\n",
              "      <th>count</th>\n",
              "    </tr>\n",
              "    <tr>\n",
              "      <th>country</th>\n",
              "      <th></th>\n",
              "    </tr>\n",
              "  </thead>\n",
              "  <tbody>\n",
              "    <tr>\n",
              "      <th>USA</th>\n",
              "      <td>1587</td>\n",
              "    </tr>\n",
              "    <tr>\n",
              "      <th>UK</th>\n",
              "      <td>568</td>\n",
              "    </tr>\n",
              "  </tbody>\n",
              "</table>\n",
              "</div><br><label><b>dtype:</b> int64</label>"
            ]
          },
          "metadata": {},
          "execution_count": 27
        }
      ]
    },
    {
      "cell_type": "markdown",
      "source": [
        "# **6)**"
      ],
      "metadata": {
        "id": "3iPtu_T-peq_"
      }
    },
    {
      "cell_type": "code",
      "source": [
        "df['city'].value_counts()"
      ],
      "metadata": {
        "colab": {
          "base_uri": "https://localhost:8080/",
          "height": 178
        },
        "id": "ayPecnyupeVo",
        "outputId": "1633f4ee-0775-4a86-dc61-6ebe6e84047a"
      },
      "execution_count": 29,
      "outputs": [
        {
          "output_type": "execute_result",
          "data": {
            "text/plain": [
              "city\n",
              "New York    1587\n",
              "London       568\n",
              "Name: count, dtype: int64"
            ],
            "text/html": [
              "<div>\n",
              "<style scoped>\n",
              "    .dataframe tbody tr th:only-of-type {\n",
              "        vertical-align: middle;\n",
              "    }\n",
              "\n",
              "    .dataframe tbody tr th {\n",
              "        vertical-align: top;\n",
              "    }\n",
              "\n",
              "    .dataframe thead th {\n",
              "        text-align: right;\n",
              "    }\n",
              "</style>\n",
              "<table border=\"1\" class=\"dataframe\">\n",
              "  <thead>\n",
              "    <tr style=\"text-align: right;\">\n",
              "      <th></th>\n",
              "      <th>count</th>\n",
              "    </tr>\n",
              "    <tr>\n",
              "      <th>city</th>\n",
              "      <th></th>\n",
              "    </tr>\n",
              "  </thead>\n",
              "  <tbody>\n",
              "    <tr>\n",
              "      <th>New York</th>\n",
              "      <td>1587</td>\n",
              "    </tr>\n",
              "    <tr>\n",
              "      <th>London</th>\n",
              "      <td>568</td>\n",
              "    </tr>\n",
              "  </tbody>\n",
              "</table>\n",
              "</div><br><label><b>dtype:</b> int64</label>"
            ]
          },
          "metadata": {},
          "execution_count": 29
        }
      ]
    },
    {
      "cell_type": "markdown",
      "source": [
        "# **7)**"
      ],
      "metadata": {
        "id": "_vcA45iCpuWl"
      }
    },
    {
      "cell_type": "code",
      "source": [
        "df['companyName'].value_counts()"
      ],
      "metadata": {
        "colab": {
          "base_uri": "https://localhost:8080/",
          "height": 209
        },
        "id": "Fg77NR1opq6z",
        "outputId": "1659a750-223e-44e4-bc43-243dd58c1293"
      },
      "execution_count": 30,
      "outputs": [
        {
          "output_type": "execute_result",
          "data": {
            "text/plain": [
              "companyName\n",
              "United Package      864\n",
              "Speedy Express      646\n",
              "Federal Shipping    645\n",
              "Name: count, dtype: int64"
            ],
            "text/html": [
              "<div>\n",
              "<style scoped>\n",
              "    .dataframe tbody tr th:only-of-type {\n",
              "        vertical-align: middle;\n",
              "    }\n",
              "\n",
              "    .dataframe tbody tr th {\n",
              "        vertical-align: top;\n",
              "    }\n",
              "\n",
              "    .dataframe thead th {\n",
              "        text-align: right;\n",
              "    }\n",
              "</style>\n",
              "<table border=\"1\" class=\"dataframe\">\n",
              "  <thead>\n",
              "    <tr style=\"text-align: right;\">\n",
              "      <th></th>\n",
              "      <th>count</th>\n",
              "    </tr>\n",
              "    <tr>\n",
              "      <th>companyName</th>\n",
              "      <th></th>\n",
              "    </tr>\n",
              "  </thead>\n",
              "  <tbody>\n",
              "    <tr>\n",
              "      <th>United Package</th>\n",
              "      <td>864</td>\n",
              "    </tr>\n",
              "    <tr>\n",
              "      <th>Speedy Express</th>\n",
              "      <td>646</td>\n",
              "    </tr>\n",
              "    <tr>\n",
              "      <th>Federal Shipping</th>\n",
              "      <td>645</td>\n",
              "    </tr>\n",
              "  </tbody>\n",
              "</table>\n",
              "</div><br><label><b>dtype:</b> int64</label>"
            ]
          },
          "metadata": {},
          "execution_count": 30
        }
      ]
    },
    {
      "cell_type": "markdown",
      "source": [
        "# **8)**"
      ],
      "metadata": {
        "id": "9jdAXQ1PrJcH"
      }
    },
    {
      "cell_type": "code",
      "source": [
        "df['contactTitle'].value_counts()"
      ],
      "metadata": {
        "colab": {
          "base_uri": "https://localhost:8080/",
          "height": 491
        },
        "id": "Dj2ILZB6rLb2",
        "outputId": "37cc084b-39b0-4d16-d198-7e6297dacdde"
      },
      "execution_count": 34,
      "outputs": [
        {
          "output_type": "execute_result",
          "data": {
            "text/plain": [
              "contactTitle\n",
              "Sales Representative              414\n",
              "Owner                             347\n",
              "Sales Manager                     342\n",
              "Accounting Manager                311\n",
              "Marketing Manager                 185\n",
              "Sales Associate                   160\n",
              "Marketing Assistant               118\n",
              "Sales Agent                        85\n",
              "Assistant Sales Representative     71\n",
              "Order Administrator                62\n",
              "Assistant Sales Agent              43\n",
              "Owner/Marketing Assistant          17\n",
              "Name: count, dtype: int64"
            ],
            "text/html": [
              "<div>\n",
              "<style scoped>\n",
              "    .dataframe tbody tr th:only-of-type {\n",
              "        vertical-align: middle;\n",
              "    }\n",
              "\n",
              "    .dataframe tbody tr th {\n",
              "        vertical-align: top;\n",
              "    }\n",
              "\n",
              "    .dataframe thead th {\n",
              "        text-align: right;\n",
              "    }\n",
              "</style>\n",
              "<table border=\"1\" class=\"dataframe\">\n",
              "  <thead>\n",
              "    <tr style=\"text-align: right;\">\n",
              "      <th></th>\n",
              "      <th>count</th>\n",
              "    </tr>\n",
              "    <tr>\n",
              "      <th>contactTitle</th>\n",
              "      <th></th>\n",
              "    </tr>\n",
              "  </thead>\n",
              "  <tbody>\n",
              "    <tr>\n",
              "      <th>Sales Representative</th>\n",
              "      <td>414</td>\n",
              "    </tr>\n",
              "    <tr>\n",
              "      <th>Owner</th>\n",
              "      <td>347</td>\n",
              "    </tr>\n",
              "    <tr>\n",
              "      <th>Sales Manager</th>\n",
              "      <td>342</td>\n",
              "    </tr>\n",
              "    <tr>\n",
              "      <th>Accounting Manager</th>\n",
              "      <td>311</td>\n",
              "    </tr>\n",
              "    <tr>\n",
              "      <th>Marketing Manager</th>\n",
              "      <td>185</td>\n",
              "    </tr>\n",
              "    <tr>\n",
              "      <th>Sales Associate</th>\n",
              "      <td>160</td>\n",
              "    </tr>\n",
              "    <tr>\n",
              "      <th>Marketing Assistant</th>\n",
              "      <td>118</td>\n",
              "    </tr>\n",
              "    <tr>\n",
              "      <th>Sales Agent</th>\n",
              "      <td>85</td>\n",
              "    </tr>\n",
              "    <tr>\n",
              "      <th>Assistant Sales Representative</th>\n",
              "      <td>71</td>\n",
              "    </tr>\n",
              "    <tr>\n",
              "      <th>Order Administrator</th>\n",
              "      <td>62</td>\n",
              "    </tr>\n",
              "    <tr>\n",
              "      <th>Assistant Sales Agent</th>\n",
              "      <td>43</td>\n",
              "    </tr>\n",
              "    <tr>\n",
              "      <th>Owner/Marketing Assistant</th>\n",
              "      <td>17</td>\n",
              "    </tr>\n",
              "  </tbody>\n",
              "</table>\n",
              "</div><br><label><b>dtype:</b> int64</label>"
            ]
          },
          "metadata": {},
          "execution_count": 34
        }
      ]
    },
    {
      "cell_type": "code",
      "source": [
        "############################################################################################################################"
      ],
      "metadata": {
        "id": "xSAHOanRpzEq"
      },
      "execution_count": 31,
      "outputs": []
    },
    {
      "cell_type": "markdown",
      "source": [
        "# **SQL BASED COLUMNS**"
      ],
      "metadata": {
        "id": "8u1XGwuZoWST"
      }
    },
    {
      "cell_type": "markdown",
      "source": [
        "# **1)**"
      ],
      "metadata": {
        "id": "eBnBeOILnubk"
      }
    },
    {
      "cell_type": "code",
      "source": [
        "df['productName'].value_counts()"
      ],
      "metadata": {
        "colab": {
          "base_uri": "https://localhost:8080/",
          "height": 489
        },
        "id": "sCszAs1Vne5o",
        "outputId": "76b5dfb2-5179-474a-ffb2-435dca8f11f4"
      },
      "execution_count": 20,
      "outputs": [
        {
          "output_type": "execute_result",
          "data": {
            "text/plain": [
              "productName\n",
              "Raclette Courdavault         54\n",
              "Camembert Pierrot            51\n",
              "Gorgonzola Telino            51\n",
              "Guarana Fantastica           51\n",
              "Gnocchi di nonna Alice       50\n",
              "                             ..\n",
              "Louisiana Hot Spiced Okra     8\n",
              "Genen Shouyu                  6\n",
              "Chocolade                     6\n",
              "Gravad lax                    6\n",
              "Mishi Kobe Niku               5\n",
              "Name: count, Length: 77, dtype: int64"
            ],
            "text/html": [
              "<div>\n",
              "<style scoped>\n",
              "    .dataframe tbody tr th:only-of-type {\n",
              "        vertical-align: middle;\n",
              "    }\n",
              "\n",
              "    .dataframe tbody tr th {\n",
              "        vertical-align: top;\n",
              "    }\n",
              "\n",
              "    .dataframe thead th {\n",
              "        text-align: right;\n",
              "    }\n",
              "</style>\n",
              "<table border=\"1\" class=\"dataframe\">\n",
              "  <thead>\n",
              "    <tr style=\"text-align: right;\">\n",
              "      <th></th>\n",
              "      <th>count</th>\n",
              "    </tr>\n",
              "    <tr>\n",
              "      <th>productName</th>\n",
              "      <th></th>\n",
              "    </tr>\n",
              "  </thead>\n",
              "  <tbody>\n",
              "    <tr>\n",
              "      <th>Raclette Courdavault</th>\n",
              "      <td>54</td>\n",
              "    </tr>\n",
              "    <tr>\n",
              "      <th>Camembert Pierrot</th>\n",
              "      <td>51</td>\n",
              "    </tr>\n",
              "    <tr>\n",
              "      <th>Gorgonzola Telino</th>\n",
              "      <td>51</td>\n",
              "    </tr>\n",
              "    <tr>\n",
              "      <th>Guarana Fantastica</th>\n",
              "      <td>51</td>\n",
              "    </tr>\n",
              "    <tr>\n",
              "      <th>Gnocchi di nonna Alice</th>\n",
              "      <td>50</td>\n",
              "    </tr>\n",
              "    <tr>\n",
              "      <th>...</th>\n",
              "      <td>...</td>\n",
              "    </tr>\n",
              "    <tr>\n",
              "      <th>Louisiana Hot Spiced Okra</th>\n",
              "      <td>8</td>\n",
              "    </tr>\n",
              "    <tr>\n",
              "      <th>Genen Shouyu</th>\n",
              "      <td>6</td>\n",
              "    </tr>\n",
              "    <tr>\n",
              "      <th>Chocolade</th>\n",
              "      <td>6</td>\n",
              "    </tr>\n",
              "    <tr>\n",
              "      <th>Gravad lax</th>\n",
              "      <td>6</td>\n",
              "    </tr>\n",
              "    <tr>\n",
              "      <th>Mishi Kobe Niku</th>\n",
              "      <td>5</td>\n",
              "    </tr>\n",
              "  </tbody>\n",
              "</table>\n",
              "<p>77 rows × 1 columns</p>\n",
              "</div><br><label><b>dtype:</b> int64</label>"
            ]
          },
          "metadata": {},
          "execution_count": 20
        }
      ]
    },
    {
      "cell_type": "markdown",
      "source": [
        "# **This Product used for SQL method to Analyse a Product**"
      ],
      "metadata": {
        "id": "t1zKhqUxn75b"
      }
    },
    {
      "cell_type": "markdown",
      "source": [
        "# **2)**"
      ],
      "metadata": {
        "id": "Zg2uLWl_oM8Y"
      }
    },
    {
      "cell_type": "code",
      "source": [
        "df['quantityPerUnit'].value_counts()"
      ],
      "metadata": {
        "colab": {
          "base_uri": "https://localhost:8080/",
          "height": 489
        },
        "id": "vdROY15qn2Rk",
        "outputId": "8019cf9c-563f-4985-c37a-26969bd1a688"
      },
      "execution_count": 21,
      "outputs": [
        {
          "output_type": "execute_result",
          "data": {
            "text/plain": [
              "quantityPerUnit\n",
              "24 - 12 oz bottles     109\n",
              "24 - 250 g pkgs.        73\n",
              "5 kg pkg.               67\n",
              "10 - 500 g pkgs.        56\n",
              "24 - 200 g pkgs.        53\n",
              "                      ... \n",
              "24 - 8 oz jars           8\n",
              "24 - 250 ml bottles      6\n",
              "10 pkgs.                 6\n",
              "12 - 500 g pkgs.         6\n",
              "18 - 500 g pkgs.         5\n",
              "Name: count, Length: 70, dtype: int64"
            ],
            "text/html": [
              "<div>\n",
              "<style scoped>\n",
              "    .dataframe tbody tr th:only-of-type {\n",
              "        vertical-align: middle;\n",
              "    }\n",
              "\n",
              "    .dataframe tbody tr th {\n",
              "        vertical-align: top;\n",
              "    }\n",
              "\n",
              "    .dataframe thead th {\n",
              "        text-align: right;\n",
              "    }\n",
              "</style>\n",
              "<table border=\"1\" class=\"dataframe\">\n",
              "  <thead>\n",
              "    <tr style=\"text-align: right;\">\n",
              "      <th></th>\n",
              "      <th>count</th>\n",
              "    </tr>\n",
              "    <tr>\n",
              "      <th>quantityPerUnit</th>\n",
              "      <th></th>\n",
              "    </tr>\n",
              "  </thead>\n",
              "  <tbody>\n",
              "    <tr>\n",
              "      <th>24 - 12 oz bottles</th>\n",
              "      <td>109</td>\n",
              "    </tr>\n",
              "    <tr>\n",
              "      <th>24 - 250 g pkgs.</th>\n",
              "      <td>73</td>\n",
              "    </tr>\n",
              "    <tr>\n",
              "      <th>5 kg pkg.</th>\n",
              "      <td>67</td>\n",
              "    </tr>\n",
              "    <tr>\n",
              "      <th>10 - 500 g pkgs.</th>\n",
              "      <td>56</td>\n",
              "    </tr>\n",
              "    <tr>\n",
              "      <th>24 - 200 g pkgs.</th>\n",
              "      <td>53</td>\n",
              "    </tr>\n",
              "    <tr>\n",
              "      <th>...</th>\n",
              "      <td>...</td>\n",
              "    </tr>\n",
              "    <tr>\n",
              "      <th>24 - 8 oz jars</th>\n",
              "      <td>8</td>\n",
              "    </tr>\n",
              "    <tr>\n",
              "      <th>24 - 250 ml bottles</th>\n",
              "      <td>6</td>\n",
              "    </tr>\n",
              "    <tr>\n",
              "      <th>10 pkgs.</th>\n",
              "      <td>6</td>\n",
              "    </tr>\n",
              "    <tr>\n",
              "      <th>12 - 500 g pkgs.</th>\n",
              "      <td>6</td>\n",
              "    </tr>\n",
              "    <tr>\n",
              "      <th>18 - 500 g pkgs.</th>\n",
              "      <td>5</td>\n",
              "    </tr>\n",
              "  </tbody>\n",
              "</table>\n",
              "<p>70 rows × 1 columns</p>\n",
              "</div><br><label><b>dtype:</b> int64</label>"
            ]
          },
          "metadata": {},
          "execution_count": 21
        }
      ]
    },
    {
      "cell_type": "markdown",
      "source": [
        "# **3)**"
      ],
      "metadata": {
        "id": "418U-Vp-ogSr"
      }
    },
    {
      "cell_type": "code",
      "source": [
        "df['customerID'].value_counts()"
      ],
      "metadata": {
        "colab": {
          "base_uri": "https://localhost:8080/",
          "height": 489
        },
        "id": "tp35VhjaoSAy",
        "outputId": "e40dadfc-ce7a-4509-b546-1c6487148b14"
      },
      "execution_count": 22,
      "outputs": [
        {
          "output_type": "execute_result",
          "data": {
            "text/plain": [
              "customerID\n",
              "SAVEA    116\n",
              "ERNSH    102\n",
              "QUICK     86\n",
              "RATTC     71\n",
              "HUNGO     55\n",
              "        ... \n",
              "FRANR      6\n",
              "BOLID      6\n",
              "GROSR      4\n",
              "LAZYK      2\n",
              "CENTC      2\n",
              "Name: count, Length: 89, dtype: int64"
            ],
            "text/html": [
              "<div>\n",
              "<style scoped>\n",
              "    .dataframe tbody tr th:only-of-type {\n",
              "        vertical-align: middle;\n",
              "    }\n",
              "\n",
              "    .dataframe tbody tr th {\n",
              "        vertical-align: top;\n",
              "    }\n",
              "\n",
              "    .dataframe thead th {\n",
              "        text-align: right;\n",
              "    }\n",
              "</style>\n",
              "<table border=\"1\" class=\"dataframe\">\n",
              "  <thead>\n",
              "    <tr style=\"text-align: right;\">\n",
              "      <th></th>\n",
              "      <th>count</th>\n",
              "    </tr>\n",
              "    <tr>\n",
              "      <th>customerID</th>\n",
              "      <th></th>\n",
              "    </tr>\n",
              "  </thead>\n",
              "  <tbody>\n",
              "    <tr>\n",
              "      <th>SAVEA</th>\n",
              "      <td>116</td>\n",
              "    </tr>\n",
              "    <tr>\n",
              "      <th>ERNSH</th>\n",
              "      <td>102</td>\n",
              "    </tr>\n",
              "    <tr>\n",
              "      <th>QUICK</th>\n",
              "      <td>86</td>\n",
              "    </tr>\n",
              "    <tr>\n",
              "      <th>RATTC</th>\n",
              "      <td>71</td>\n",
              "    </tr>\n",
              "    <tr>\n",
              "      <th>HUNGO</th>\n",
              "      <td>55</td>\n",
              "    </tr>\n",
              "    <tr>\n",
              "      <th>...</th>\n",
              "      <td>...</td>\n",
              "    </tr>\n",
              "    <tr>\n",
              "      <th>FRANR</th>\n",
              "      <td>6</td>\n",
              "    </tr>\n",
              "    <tr>\n",
              "      <th>BOLID</th>\n",
              "      <td>6</td>\n",
              "    </tr>\n",
              "    <tr>\n",
              "      <th>GROSR</th>\n",
              "      <td>4</td>\n",
              "    </tr>\n",
              "    <tr>\n",
              "      <th>LAZYK</th>\n",
              "      <td>2</td>\n",
              "    </tr>\n",
              "    <tr>\n",
              "      <th>CENTC</th>\n",
              "      <td>2</td>\n",
              "    </tr>\n",
              "  </tbody>\n",
              "</table>\n",
              "<p>89 rows × 1 columns</p>\n",
              "</div><br><label><b>dtype:</b> int64</label>"
            ]
          },
          "metadata": {},
          "execution_count": 22
        }
      ]
    },
    {
      "cell_type": "markdown",
      "source": [
        "# **4)**"
      ],
      "metadata": {
        "id": "jxwgK9Z8oska"
      }
    },
    {
      "cell_type": "code",
      "source": [
        "df['orderDate'].value_counts()"
      ],
      "metadata": {
        "colab": {
          "base_uri": "https://localhost:8080/",
          "height": 489
        },
        "id": "OiC6yAeJolP3",
        "outputId": "fc35dff4-5cb0-4a1e-96ae-07fa7dfc41d8"
      },
      "execution_count": 23,
      "outputs": [
        {
          "output_type": "execute_result",
          "data": {
            "text/plain": [
              "orderDate\n",
              "2015-05-06    32\n",
              "2015-02-26    16\n",
              "2015-03-26    14\n",
              "2015-04-17    14\n",
              "2015-04-06    14\n",
              "              ..\n",
              "2013-12-10     1\n",
              "2014-07-30     1\n",
              "2014-07-23     1\n",
              "2014-07-15     1\n",
              "2014-09-03     1\n",
              "Name: count, Length: 480, dtype: int64"
            ],
            "text/html": [
              "<div>\n",
              "<style scoped>\n",
              "    .dataframe tbody tr th:only-of-type {\n",
              "        vertical-align: middle;\n",
              "    }\n",
              "\n",
              "    .dataframe tbody tr th {\n",
              "        vertical-align: top;\n",
              "    }\n",
              "\n",
              "    .dataframe thead th {\n",
              "        text-align: right;\n",
              "    }\n",
              "</style>\n",
              "<table border=\"1\" class=\"dataframe\">\n",
              "  <thead>\n",
              "    <tr style=\"text-align: right;\">\n",
              "      <th></th>\n",
              "      <th>count</th>\n",
              "    </tr>\n",
              "    <tr>\n",
              "      <th>orderDate</th>\n",
              "      <th></th>\n",
              "    </tr>\n",
              "  </thead>\n",
              "  <tbody>\n",
              "    <tr>\n",
              "      <th>2015-05-06</th>\n",
              "      <td>32</td>\n",
              "    </tr>\n",
              "    <tr>\n",
              "      <th>2015-02-26</th>\n",
              "      <td>16</td>\n",
              "    </tr>\n",
              "    <tr>\n",
              "      <th>2015-03-26</th>\n",
              "      <td>14</td>\n",
              "    </tr>\n",
              "    <tr>\n",
              "      <th>2015-04-17</th>\n",
              "      <td>14</td>\n",
              "    </tr>\n",
              "    <tr>\n",
              "      <th>2015-04-06</th>\n",
              "      <td>14</td>\n",
              "    </tr>\n",
              "    <tr>\n",
              "      <th>...</th>\n",
              "      <td>...</td>\n",
              "    </tr>\n",
              "    <tr>\n",
              "      <th>2013-12-10</th>\n",
              "      <td>1</td>\n",
              "    </tr>\n",
              "    <tr>\n",
              "      <th>2014-07-30</th>\n",
              "      <td>1</td>\n",
              "    </tr>\n",
              "    <tr>\n",
              "      <th>2014-07-23</th>\n",
              "      <td>1</td>\n",
              "    </tr>\n",
              "    <tr>\n",
              "      <th>2014-07-15</th>\n",
              "      <td>1</td>\n",
              "    </tr>\n",
              "    <tr>\n",
              "      <th>2014-09-03</th>\n",
              "      <td>1</td>\n",
              "    </tr>\n",
              "  </tbody>\n",
              "</table>\n",
              "<p>480 rows × 1 columns</p>\n",
              "</div><br><label><b>dtype:</b> int64</label>"
            ]
          },
          "metadata": {},
          "execution_count": 23
        }
      ]
    },
    {
      "cell_type": "markdown",
      "source": [
        "# **5)**"
      ],
      "metadata": {
        "id": "oI3vDSKGo5Pe"
      }
    },
    {
      "cell_type": "code",
      "source": [
        "df['requiredDate'].value_counts()"
      ],
      "metadata": {
        "colab": {
          "base_uri": "https://localhost:8080/",
          "height": 489
        },
        "id": "1dw0lLfIoxef",
        "outputId": "bbb69e74-991f-4dde-aee7-df3aca988227"
      },
      "execution_count": 24,
      "outputs": [
        {
          "output_type": "execute_result",
          "data": {
            "text/plain": [
              "requiredDate\n",
              "2015-06-03    32\n",
              "2015-03-26    19\n",
              "2015-04-28    17\n",
              "2015-05-15    17\n",
              "2015-04-23    17\n",
              "              ..\n",
              "2014-01-21     1\n",
              "2015-03-25     1\n",
              "2015-01-01     1\n",
              "2014-05-15     1\n",
              "2013-12-25     1\n",
              "Name: count, Length: 454, dtype: int64"
            ],
            "text/html": [
              "<div>\n",
              "<style scoped>\n",
              "    .dataframe tbody tr th:only-of-type {\n",
              "        vertical-align: middle;\n",
              "    }\n",
              "\n",
              "    .dataframe tbody tr th {\n",
              "        vertical-align: top;\n",
              "    }\n",
              "\n",
              "    .dataframe thead th {\n",
              "        text-align: right;\n",
              "    }\n",
              "</style>\n",
              "<table border=\"1\" class=\"dataframe\">\n",
              "  <thead>\n",
              "    <tr style=\"text-align: right;\">\n",
              "      <th></th>\n",
              "      <th>count</th>\n",
              "    </tr>\n",
              "    <tr>\n",
              "      <th>requiredDate</th>\n",
              "      <th></th>\n",
              "    </tr>\n",
              "  </thead>\n",
              "  <tbody>\n",
              "    <tr>\n",
              "      <th>2015-06-03</th>\n",
              "      <td>32</td>\n",
              "    </tr>\n",
              "    <tr>\n",
              "      <th>2015-03-26</th>\n",
              "      <td>19</td>\n",
              "    </tr>\n",
              "    <tr>\n",
              "      <th>2015-04-28</th>\n",
              "      <td>17</td>\n",
              "    </tr>\n",
              "    <tr>\n",
              "      <th>2015-05-15</th>\n",
              "      <td>17</td>\n",
              "    </tr>\n",
              "    <tr>\n",
              "      <th>2015-04-23</th>\n",
              "      <td>17</td>\n",
              "    </tr>\n",
              "    <tr>\n",
              "      <th>...</th>\n",
              "      <td>...</td>\n",
              "    </tr>\n",
              "    <tr>\n",
              "      <th>2014-01-21</th>\n",
              "      <td>1</td>\n",
              "    </tr>\n",
              "    <tr>\n",
              "      <th>2015-03-25</th>\n",
              "      <td>1</td>\n",
              "    </tr>\n",
              "    <tr>\n",
              "      <th>2015-01-01</th>\n",
              "      <td>1</td>\n",
              "    </tr>\n",
              "    <tr>\n",
              "      <th>2014-05-15</th>\n",
              "      <td>1</td>\n",
              "    </tr>\n",
              "    <tr>\n",
              "      <th>2013-12-25</th>\n",
              "      <td>1</td>\n",
              "    </tr>\n",
              "  </tbody>\n",
              "</table>\n",
              "<p>454 rows × 1 columns</p>\n",
              "</div><br><label><b>dtype:</b> int64</label>"
            ]
          },
          "metadata": {},
          "execution_count": 24
        }
      ]
    },
    {
      "cell_type": "markdown",
      "source": [
        "# **6)**"
      ],
      "metadata": {
        "id": "W0yJjF7kpFI8"
      }
    },
    {
      "cell_type": "code",
      "source": [
        "df['shippedDate'].value_counts()"
      ],
      "metadata": {
        "colab": {
          "base_uri": "https://localhost:8080/",
          "height": 489
        },
        "id": "C52cHszVo9Tq",
        "outputId": "3d805e7c-5202-4f3e-b60a-9b159924b0af"
      },
      "execution_count": 25,
      "outputs": [
        {
          "output_type": "execute_result",
          "data": {
            "text/plain": [
              "shippedDate\n",
              "2015-01-23    21\n",
              "2015-04-10    21\n",
              "2015-04-24    18\n",
              "2014-03-14    17\n",
              "2013-12-02    17\n",
              "              ..\n",
              "2014-03-26     1\n",
              "2014-07-02     1\n",
              "2014-01-31     1\n",
              "2014-08-15     1\n",
              "2014-06-26     1\n",
              "Name: count, Length: 387, dtype: int64"
            ],
            "text/html": [
              "<div>\n",
              "<style scoped>\n",
              "    .dataframe tbody tr th:only-of-type {\n",
              "        vertical-align: middle;\n",
              "    }\n",
              "\n",
              "    .dataframe tbody tr th {\n",
              "        vertical-align: top;\n",
              "    }\n",
              "\n",
              "    .dataframe thead th {\n",
              "        text-align: right;\n",
              "    }\n",
              "</style>\n",
              "<table border=\"1\" class=\"dataframe\">\n",
              "  <thead>\n",
              "    <tr style=\"text-align: right;\">\n",
              "      <th></th>\n",
              "      <th>count</th>\n",
              "    </tr>\n",
              "    <tr>\n",
              "      <th>shippedDate</th>\n",
              "      <th></th>\n",
              "    </tr>\n",
              "  </thead>\n",
              "  <tbody>\n",
              "    <tr>\n",
              "      <th>2015-01-23</th>\n",
              "      <td>21</td>\n",
              "    </tr>\n",
              "    <tr>\n",
              "      <th>2015-04-10</th>\n",
              "      <td>21</td>\n",
              "    </tr>\n",
              "    <tr>\n",
              "      <th>2015-04-24</th>\n",
              "      <td>18</td>\n",
              "    </tr>\n",
              "    <tr>\n",
              "      <th>2014-03-14</th>\n",
              "      <td>17</td>\n",
              "    </tr>\n",
              "    <tr>\n",
              "      <th>2013-12-02</th>\n",
              "      <td>17</td>\n",
              "    </tr>\n",
              "    <tr>\n",
              "      <th>...</th>\n",
              "      <td>...</td>\n",
              "    </tr>\n",
              "    <tr>\n",
              "      <th>2014-03-26</th>\n",
              "      <td>1</td>\n",
              "    </tr>\n",
              "    <tr>\n",
              "      <th>2014-07-02</th>\n",
              "      <td>1</td>\n",
              "    </tr>\n",
              "    <tr>\n",
              "      <th>2014-01-31</th>\n",
              "      <td>1</td>\n",
              "    </tr>\n",
              "    <tr>\n",
              "      <th>2014-08-15</th>\n",
              "      <td>1</td>\n",
              "    </tr>\n",
              "    <tr>\n",
              "      <th>2014-06-26</th>\n",
              "      <td>1</td>\n",
              "    </tr>\n",
              "  </tbody>\n",
              "</table>\n",
              "<p>387 rows × 1 columns</p>\n",
              "</div><br><label><b>dtype:</b> int64</label>"
            ]
          },
          "metadata": {},
          "execution_count": 25
        }
      ]
    },
    {
      "cell_type": "markdown",
      "source": [
        "# **7)**"
      ],
      "metadata": {
        "id": "Ap3JZt54q-o7"
      }
    },
    {
      "cell_type": "code",
      "source": [
        "df['contactName'].value_counts()"
      ],
      "metadata": {
        "colab": {
          "base_uri": "https://localhost:8080/",
          "height": 489
        },
        "id": "QGGW0Gd8qu09",
        "outputId": "011dce47-7282-4788-9af0-7b8ee64d470d"
      },
      "execution_count": 32,
      "outputs": [
        {
          "output_type": "execute_result",
          "data": {
            "text/plain": [
              "contactName\n",
              "Jose Pavarotti      116\n",
              "Roland Mendel       102\n",
              "Horst Kloss          86\n",
              "Paula Wilson         71\n",
              "Patricia McKenna     55\n",
              "                   ... \n",
              "Carine Schmitt        6\n",
              "Martín Sommer         6\n",
              "Manuel Pereira        4\n",
              "John Steel            2\n",
              "Francisco Chang       2\n",
              "Name: count, Length: 89, dtype: int64"
            ],
            "text/html": [
              "<div>\n",
              "<style scoped>\n",
              "    .dataframe tbody tr th:only-of-type {\n",
              "        vertical-align: middle;\n",
              "    }\n",
              "\n",
              "    .dataframe tbody tr th {\n",
              "        vertical-align: top;\n",
              "    }\n",
              "\n",
              "    .dataframe thead th {\n",
              "        text-align: right;\n",
              "    }\n",
              "</style>\n",
              "<table border=\"1\" class=\"dataframe\">\n",
              "  <thead>\n",
              "    <tr style=\"text-align: right;\">\n",
              "      <th></th>\n",
              "      <th>count</th>\n",
              "    </tr>\n",
              "    <tr>\n",
              "      <th>contactName</th>\n",
              "      <th></th>\n",
              "    </tr>\n",
              "  </thead>\n",
              "  <tbody>\n",
              "    <tr>\n",
              "      <th>Jose Pavarotti</th>\n",
              "      <td>116</td>\n",
              "    </tr>\n",
              "    <tr>\n",
              "      <th>Roland Mendel</th>\n",
              "      <td>102</td>\n",
              "    </tr>\n",
              "    <tr>\n",
              "      <th>Horst Kloss</th>\n",
              "      <td>86</td>\n",
              "    </tr>\n",
              "    <tr>\n",
              "      <th>Paula Wilson</th>\n",
              "      <td>71</td>\n",
              "    </tr>\n",
              "    <tr>\n",
              "      <th>Patricia McKenna</th>\n",
              "      <td>55</td>\n",
              "    </tr>\n",
              "    <tr>\n",
              "      <th>...</th>\n",
              "      <td>...</td>\n",
              "    </tr>\n",
              "    <tr>\n",
              "      <th>Carine Schmitt</th>\n",
              "      <td>6</td>\n",
              "    </tr>\n",
              "    <tr>\n",
              "      <th>Martín Sommer</th>\n",
              "      <td>6</td>\n",
              "    </tr>\n",
              "    <tr>\n",
              "      <th>Manuel Pereira</th>\n",
              "      <td>4</td>\n",
              "    </tr>\n",
              "    <tr>\n",
              "      <th>John Steel</th>\n",
              "      <td>2</td>\n",
              "    </tr>\n",
              "    <tr>\n",
              "      <th>Francisco Chang</th>\n",
              "      <td>2</td>\n",
              "    </tr>\n",
              "  </tbody>\n",
              "</table>\n",
              "<p>89 rows × 1 columns</p>\n",
              "</div><br><label><b>dtype:</b> int64</label>"
            ]
          },
          "metadata": {},
          "execution_count": 32
        }
      ]
    },
    {
      "cell_type": "code",
      "source": [
        "#######################################################################################################################"
      ],
      "metadata": {
        "id": "HVJmlRMnq4QK"
      },
      "execution_count": 35,
      "outputs": []
    },
    {
      "cell_type": "markdown",
      "source": [
        "# **Chart Based (EDA)** - Count - 8\n",
        "\n",
        "# **SQL Based (EDA)** Count - 7"
      ],
      "metadata": {
        "id": "QI0Rmeo0rO4G"
      }
    },
    {
      "cell_type": "markdown",
      "source": [
        "# **Chart Based (EDA)** - Count - 8\n",
        "\n",
        "1)employeeName,\n",
        "\n",
        "2)title,\n",
        "\n",
        "3)categoryName,\n",
        "\n",
        "4)description,\n",
        "\n",
        "5)country,\n",
        "\n",
        "6)city,\n",
        "\n",
        "7)companyName,\n",
        "\n",
        "8)contactTitle\n",
        "\n",
        "\n",
        "# **SQL Based (EDA)** Count - 7\n",
        "\n",
        "1) productName,\n",
        "\n",
        "2)quantityPerUnit,\n",
        "\n",
        "3)customerID,\n",
        "\n",
        "4)orderDate,\n",
        "\n",
        "5)requiredDate,\n",
        "\n",
        "6)shippedDate,\n",
        "\n",
        "7)contactName"
      ],
      "metadata": {
        "id": "wBeKrOhcrnTX"
      }
    },
    {
      "cell_type": "code",
      "source": [],
      "metadata": {
        "id": "MjXauhzIuqH6"
      },
      "execution_count": null,
      "outputs": []
    }
  ]
}